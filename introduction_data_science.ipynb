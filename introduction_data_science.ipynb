{
  "nbformat": 4,
  "nbformat_minor": 0,
  "metadata": {
    "colab": {
      "provenance": [],
      "toc_visible": true,
      "authorship_tag": "ABX9TyMNFpsXM/w4zW8bRDtd4xVU",
      "include_colab_link": true
    },
    "kernelspec": {
      "name": "python3",
      "display_name": "Python 3"
    },
    "language_info": {
      "name": "python"
    }
  },
  "cells": [
    {
      "cell_type": "markdown",
      "metadata": {
        "id": "view-in-github",
        "colab_type": "text"
      },
      "source": [
        "<a href=\"https://colab.research.google.com/github/DeveloperHasanKhan/DeveloperHasanKhan/blob/main/introduction_data_science.ipynb\" target=\"_parent\"><img src=\"https://colab.research.google.com/assets/colab-badge.svg\" alt=\"Open In Colab\"/></a>"
      ]
    },
    {
      "cell_type": "code",
      "execution_count": null,
      "metadata": {
        "colab": {
          "base_uri": "https://localhost:8080/"
        },
        "id": "90sl_BCBSXHI",
        "outputId": "7d1cd72c-2ca7-4fb1-b699-ea039d08b1d4"
      },
      "outputs": [
        {
          "output_type": "stream",
          "name": "stdout",
          "text": [
            "Hello word!\n"
          ]
        }
      ],
      "source": [
        "print(\"Hello word!\")"
      ]
    },
    {
      "cell_type": "code",
      "source": [],
      "metadata": {
        "id": "wdxU0fb4ab6G"
      },
      "execution_count": null,
      "outputs": []
    },
    {
      "cell_type": "markdown",
      "source": [
        "# **Chapter**"
      ],
      "metadata": {
        "id": "CIEIyxVNbkUn"
      }
    },
    {
      "cell_type": "code",
      "source": [],
      "metadata": {
        "id": "ZS6kgrUFbqjw"
      },
      "execution_count": null,
      "outputs": []
    },
    {
      "cell_type": "markdown",
      "source": [
        "## **sub-chapter-1**"
      ],
      "metadata": {
        "id": "AxulHnbKbupj"
      }
    },
    {
      "cell_type": "code",
      "source": [],
      "metadata": {
        "id": "56zb2Udcb1Iq"
      },
      "execution_count": null,
      "outputs": []
    },
    {
      "cell_type": "markdown",
      "source": [
        "## **sub-chapter-2**"
      ],
      "metadata": {
        "id": "thE3snWgb7Fi"
      }
    },
    {
      "cell_type": "code",
      "source": [],
      "metadata": {
        "id": "UVM0ka6Lb-Zo"
      },
      "execution_count": null,
      "outputs": []
    }
  ]
}