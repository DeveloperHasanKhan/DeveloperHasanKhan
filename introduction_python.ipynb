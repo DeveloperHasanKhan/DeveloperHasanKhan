{
  "nbformat": 4,
  "nbformat_minor": 0,
  "metadata": {
    "colab": {
      "provenance": [],
      "toc_visible": true,
      "authorship_tag": "ABX9TyNjLw+gu5Gaoh4izZ6EF9Z/",
      "include_colab_link": true
    },
    "kernelspec": {
      "name": "python3",
      "display_name": "Python 3"
    },
    "language_info": {
      "name": "python"
    }
  },
  "cells": [
    {
      "cell_type": "markdown",
      "metadata": {
        "id": "view-in-github",
        "colab_type": "text"
      },
      "source": [
        "<a href=\"https://colab.research.google.com/github/DeveloperHasanKhan/DeveloperHasanKhan/blob/main/introduction_python.ipynb\" target=\"_parent\"><img src=\"https://colab.research.google.com/assets/colab-badge.svg\" alt=\"Open In Colab\"/></a>"
      ]
    },
    {
      "cell_type": "markdown",
      "source": [
        "# **Introduction Python**"
      ],
      "metadata": {
        "id": "fveqNMfVIQYV"
      }
    },
    {
      "cell_type": "markdown",
      "source": [
        "## **Variables HW: 2.1-2.3**"
      ],
      "metadata": {
        "id": "OFMcmDm3I7mV"
      }
    },
    {
      "cell_type": "code",
      "source": [
        "#Creating Variables HW-2.1\n",
        "\n",
        "name = \"Hasan Khan\"\n",
        "age = 26\n",
        "favorite_color = \"Black\"\n",
        "print(\"Name:\", name)\n",
        "print(\"Age:\", age)\n",
        "print(\"Favorite Color:\", favorite_color)"
      ],
      "metadata": {
        "colab": {
          "base_uri": "https://localhost:8080/"
        },
        "id": "p3l1pAzCJBAv",
        "outputId": "7ccf8b48-35e4-4eb2-b18d-97bee136df0f"
      },
      "execution_count": null,
      "outputs": [
        {
          "output_type": "stream",
          "name": "stdout",
          "text": [
            "Name: Hasan Khan\n",
            "Age: 26\n",
            "Favorite Color: Black\n"
          ]
        }
      ]
    },
    {
      "cell_type": "code",
      "source": [
        "#Variables type checking through tpye() HW-2.2\n",
        "\n",
        "name = \"Hasan Khan\"\n",
        "age = 26\n",
        "height = 5.6\n",
        "department_cse = True\n",
        "result = None\n",
        "print(type(name))\n",
        "print(type(age))\n",
        "print(type(height))\n",
        "print(type(department_cse))\n",
        "print(type(result))"
      ],
      "metadata": {
        "id": "xP_jGrBFJzJc",
        "colab": {
          "base_uri": "https://localhost:8080/"
        },
        "outputId": "2d3eb087-6a14-41d2-854d-7a359e4cc39a"
      },
      "execution_count": null,
      "outputs": [
        {
          "output_type": "stream",
          "name": "stdout",
          "text": [
            "<class 'str'>\n",
            "<class 'int'>\n",
            "<class 'float'>\n",
            "<class 'bool'>\n",
            "<class 'NoneType'>\n"
          ]
        }
      ]
    },
    {
      "cell_type": "code",
      "source": [
        "# culculate are & perimeter HW-2.3\n",
        "\n",
        "l = 7\n",
        "w = 5\n",
        "area = l * w\n",
        "perimeter  = 2*(l + w)\n",
        "print(\"Are:\",area)\n",
        "print(\"Perimeter:\",perimeter)"
      ],
      "metadata": {
        "colab": {
          "base_uri": "https://localhost:8080/"
        },
        "id": "Q21E4LuMiUFQ",
        "outputId": "252c6f47-c0f7-4505-de23-08febd0e6a7f"
      },
      "execution_count": null,
      "outputs": [
        {
          "output_type": "stream",
          "name": "stdout",
          "text": [
            "Are: 35\n",
            "Perimeter: 24\n"
          ]
        }
      ]
    },
    {
      "cell_type": "code",
      "source": [],
      "metadata": {
        "id": "_u4pkEvWno2j"
      },
      "execution_count": null,
      "outputs": []
    },
    {
      "cell_type": "markdown",
      "source": [
        "## **Data Structure HW: 2.4-2.8**"
      ],
      "metadata": {
        "id": "YXpXYHKqq5ZQ"
      }
    },
    {
      "cell_type": "code",
      "source": [
        "#Create list HW-2.4\n",
        "\n",
        "fruits = [\"Apple\", \"Banana\",\"Guava\", \"Watermelon\", \"Penunt\"]\n",
        "\n",
        "print(\"Bangladeshi_fruits:\",fruits[0],fruits[4])"
      ],
      "metadata": {
        "id": "9bliDDImrA_f",
        "colab": {
          "base_uri": "https://localhost:8080/"
        },
        "outputId": "98df4bc2-f443-4d1b-a621-2d6a3c9d68f0"
      },
      "execution_count": null,
      "outputs": [
        {
          "output_type": "stream",
          "name": "stdout",
          "text": [
            "Bangladeshi_fruits: Apple Penunt\n"
          ]
        }
      ]
    },
    {
      "cell_type": "code",
      "source": [
        "#Create list: add, romove, sort. HW-2.5\n",
        "\n",
        "fruits = [\"Mango\",\"Banana\",\"Apple\", \"Watermelon\", \"Orrange\"]\n",
        "fruits.append(\"Penunt\") #add to end\n",
        "fruits.remove(\"Banana\") #romove by value\n",
        "fruits.sort() #alphabetical order\n",
        "print(fruits)"
      ],
      "metadata": {
        "colab": {
          "base_uri": "https://localhost:8080/"
        },
        "id": "98jqlNtFBt3N",
        "outputId": "82101671-fec4-4eff-a5f3-80958b0e9dd7"
      },
      "execution_count": null,
      "outputs": [
        {
          "output_type": "stream",
          "name": "stdout",
          "text": [
            "['Apple', 'Mango', 'Orrange', 'Penunt', 'Watermelon']\n"
          ]
        }
      ]
    },
    {
      "cell_type": "code",
      "source": [
        "#Create a Dictionary HW-2.6\n",
        "student ={\n",
        "    \"name\": \"Hasan\",\n",
        "    \"age\": 26,\n",
        "    \"university\": \"Prime University\",\n",
        "    \"batch\": \"44th\",\n",
        "    \"id\": 171030101055,\n",
        "    \"semester\":\"fall\",\n",
        "    \"course\": [\"Data Science\", \"Networking\",\"C++\",\"Python\"]}\n",
        "print(student[\"name\"])\n",
        "print(student[\"age\"])\n",
        "print(student[\"course\"][2])\n",
        "student[\"phone\"]= \"01748349032\" #adding\n",
        "print(student[\"phone\"])\n",
        "student[\"age\"] = 25\n",
        "print(student[\"age\"])           #modifying\n",
        "if \"semester\" in student:       #Checking if a key exists\n",
        "  print(\"Semester is found\")\n",
        "else:\n",
        "  print(\"semester not found\")"
      ],
      "metadata": {
        "id": "kv7YM6AFQgxe",
        "colab": {
          "base_uri": "https://localhost:8080/"
        },
        "outputId": "c39dd0a2-30cc-49a7-d5d9-75501c9cde18"
      },
      "execution_count": 15,
      "outputs": [
        {
          "output_type": "stream",
          "name": "stdout",
          "text": [
            "Hasan\n",
            "26\n",
            "C++\n",
            "01748349032\n",
            "25\n",
            "Semester is found\n"
          ]
        }
      ]
    },
    {
      "cell_type": "code",
      "source": [
        "#create tuple Hw-2.7\n",
        "coordinates =(23.78, 90.41)\n",
        "print(\"Gulshan latitude:\", coordinates[0])"
      ],
      "metadata": {
        "colab": {
          "base_uri": "https://localhost:8080/"
        },
        "id": "K7pbRMBD1FQD",
        "outputId": "1d23fd44-2d75-43e0-b9d4-9d486bd5764e"
      },
      "execution_count": 22,
      "outputs": [
        {
          "output_type": "stream",
          "name": "stdout",
          "text": [
            "Gulshan latitude: 23.78\n"
          ]
        }
      ]
    },
    {
      "cell_type": "code",
      "source": [
        "#create sets HW-2.8\n",
        "colors_set1 = {\"Red\", \"blue\", \"Green\", \"Black\", \"White\"}\n",
        "colors_set2 = {\"Grea\", \"black\", \"Purple\",\"White\",\"Shilver\"}\n",
        "\n",
        "colors_all = colors_set1 | colors_set2 #union\n",
        "\n",
        "common_colors = colors_set1 & colors_set2 #intersection\n",
        "print(\"Union:\",colors_all,)\n",
        "print(\"Intersection:\",common_colors )\n"
      ],
      "metadata": {
        "colab": {
          "base_uri": "https://localhost:8080/"
        },
        "id": "I2AqXoINDw76",
        "outputId": "9ae23775-c93c-477b-fb68-a5c104942349"
      },
      "execution_count": 26,
      "outputs": [
        {
          "output_type": "stream",
          "name": "stdout",
          "text": [
            "Union: {'Shilver', 'Green', 'White', 'blue', 'Purple', 'black', 'Black', 'Grea', 'Red'}\n",
            "Intersection: {'White'}\n"
          ]
        }
      ]
    },
    {
      "cell_type": "markdown",
      "source": [
        "## Conditional HW :2.9-2.10"
      ],
      "metadata": {
        "id": "dhmFjbKnKDVK"
      }
    },
    {
      "cell_type": "code",
      "source": [
        "#Create a if-else HW-2.9\n",
        "number=int(input())\n",
        "if number > 0:\n",
        "  print(\"Number is positive.\")\n",
        "elif number<0:\n",
        "  print(\"Number is negative.\")\n",
        "else:\n",
        "  print(\"Number is zero.\")"
      ],
      "metadata": {
        "colab": {
          "base_uri": "https://localhost:8080/"
        },
        "id": "G40gr87vKSRv",
        "outputId": "abcb700d-7398-4bd5-a181-757b28033257"
      },
      "execution_count": 36,
      "outputs": [
        {
          "output_type": "stream",
          "name": "stdout",
          "text": [
            "0\n",
            "Number is zero.\n"
          ]
        }
      ]
    },
    {
      "cell_type": "code",
      "source": [
        "#Create Logical Opporators Hw-2.10\n",
        "\n",
        "is_student = input(\"Are you a student? (yes/no): \")\n",
        "age = int(input(\"Enter your age: \"))\n",
        "if (is_student == \"yes\" and age < 25) or age > 60:\n",
        "    print(\"You are eligible for a discount.\")\n",
        "else:\n",
        "    print(\"You are not eligible for a discount.\")"
      ],
      "metadata": {
        "colab": {
          "base_uri": "https://localhost:8080/"
        },
        "id": "6NXUMo1_NT59",
        "outputId": "91c3a2cb-2003-4e0e-e475-8137832a8896"
      },
      "execution_count": 38,
      "outputs": [
        {
          "output_type": "stream",
          "name": "stdout",
          "text": [
            "Are you a student? (yes/no): no\n",
            "Enter your age: 24\n",
            "You are not eligible for a discount.\n"
          ]
        }
      ]
    },
    {
      "cell_type": "markdown",
      "source": [
        "## **Loop HW: 2.11-2.12**"
      ],
      "metadata": {
        "id": "mpjtyka5SELk"
      }
    },
    {
      "cell_type": "code",
      "source": [
        "#Create Loop HW-2.11\n",
        "\n",
        "n=int(input())\n",
        "for i in range(1,n+1):\n",
        "  even=i*2\n",
        "  print(even,end=\" \")"
      ],
      "metadata": {
        "colab": {
          "base_uri": "https://localhost:8080/"
        },
        "id": "v_-Zr30IPHQR",
        "outputId": "9e1cf1d7-bac3-444f-8691-e57250fcf797"
      },
      "execution_count": 42,
      "outputs": [
        {
          "output_type": "stream",
          "name": "stdout",
          "text": [
            "10\n",
            "2 4 6 8 10 12 14 16 18 20 "
          ]
        }
      ]
    },
    {
      "cell_type": "code",
      "source": [
        "#Create pyramid pattern using nested loops HW-2.12\n",
        "\n",
        "\n",
        "n=int(input())\n",
        "for i in range(1,n+1):\n",
        "  for space in range(n - i):\n",
        "        print(\" \", end=\"\")\n",
        "  print(\"*\"*(i*2-1))"
      ],
      "metadata": {
        "colab": {
          "base_uri": "https://localhost:8080/"
        },
        "id": "N6FOGgliQ1oK",
        "outputId": "da6f531b-1971-4dbf-dfa3-2b5849fcdac0"
      },
      "execution_count": 43,
      "outputs": [
        {
          "output_type": "stream",
          "name": "stdout",
          "text": [
            "10\n",
            "         *\n",
            "        ***\n",
            "       *****\n",
            "      *******\n",
            "     *********\n",
            "    ***********\n",
            "   *************\n",
            "  ***************\n",
            " *****************\n",
            "*******************\n"
          ]
        }
      ]
    },
    {
      "cell_type": "markdown",
      "source": [
        "## **Function** HW: 2.13-2.14"
      ],
      "metadata": {
        "id": "Y2mZBvWqSxLC"
      }
    },
    {
      "cell_type": "code",
      "source": [
        "#Create function HW-2.13\n",
        "\n",
        "def temp(C):\n",
        "  F = (C * 9/5) + 32\n",
        "  return F\n",
        "\n",
        "result = temp(37)\n",
        "print(f\"The temperature is {result}\")"
      ],
      "metadata": {
        "colab": {
          "base_uri": "https://localhost:8080/"
        },
        "id": "b-vAIXWmS9Tk",
        "outputId": "5fb6d78b-0cbc-4ca8-f028-002179194448"
      },
      "execution_count": 44,
      "outputs": [
        {
          "output_type": "stream",
          "name": "stdout",
          "text": [
            "The temperature is 98.6\n"
          ]
        }
      ]
    },
    {
      "cell_type": "code",
      "source": [
        "#Calculates the area of a rectangle\n",
        "\n",
        "def area(L,W):\n",
        "  area_rect = L*W\n",
        "  return area_rect\n",
        "\n",
        "result = area(12,7)\n",
        "print(f\"The area is {result}\")"
      ],
      "metadata": {
        "colab": {
          "base_uri": "https://localhost:8080/"
        },
        "id": "EFhsEfYaTLSy",
        "outputId": "6405bbf7-9c8c-4dc0-b958-94cc1b776820"
      },
      "execution_count": 46,
      "outputs": [
        {
          "output_type": "stream",
          "name": "stdout",
          "text": [
            "The area is 84\n"
          ]
        }
      ]
    }
  ]
}